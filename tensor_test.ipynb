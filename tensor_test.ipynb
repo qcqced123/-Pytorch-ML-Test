{
 "cells": [
  {
   "cell_type": "code",
   "execution_count": 1,
   "id": "ec340317-5310-41ff-b752-a147c2edabbc",
   "metadata": {},
   "outputs": [],
   "source": [
    "import torch\n",
    "import numpy as np"
   ]
  },
  {
   "cell_type": "code",
   "execution_count": 4,
   "id": "b898be1d-b78b-44ba-b821-90d872948769",
   "metadata": {},
   "outputs": [
    {
     "data": {
      "text/plain": [
       "(<function Tensor.size>,\n",
       " tensor([[ 0.4078, -0.2062, -1.9476, -0.5783],\n",
       "         [ 0.7319, -0.9079,  0.1607,  1.5403],\n",
       "         [-1.4357,  0.1099,  0.1589, -0.9753],\n",
       "         [ 0.8379, -1.7359,  1.1830, -0.0266]]))"
      ]
     },
     "execution_count": 4,
     "metadata": {},
     "output_type": "execute_result"
    }
   ],
   "source": [
    "\"\"\"\n",
    "torch.view 정리\n",
    "1) 원본 데이터와 총 인스턴스 개수는 동일홤\n",
    "    - 모든 차원을 곱해보면 모두 동일한 값이 나옴\n",
    "2) 얕은 복사를 지원\n",
    "    - 변환된 형태를 원본에 저장하고 싶다면 변수에 직접 담아줘야 한다\n",
    "\"\"\"\n",
    "x = torch.randn(4,4)\n",
    "x.size, x"
   ]
  },
  {
   "cell_type": "code",
   "execution_count": 20,
   "id": "061e5a4b-c654-4744-93f3-0b7fcfc887e0",
   "metadata": {},
   "outputs": [
    {
     "data": {
      "text/plain": [
       "tensor([[ 0.4078, -0.2062, -1.9476, -0.5783,  0.7319, -0.9079,  0.1607,  1.5403,\n",
       "         -1.4357,  0.1099,  0.1589, -0.9753,  0.8379, -1.7359,  1.1830, -0.0266]])"
      ]
     },
     "execution_count": 20,
     "metadata": {},
     "output_type": "execute_result"
    }
   ],
   "source": [
    "\"\"\"\n",
    "1) x.view(-1, 1) => [16, 1]\n",
    "2) x.view(-1) => [16]\n",
    "3) x.view(1, -1) => [1, 16]\n",
    "\"\"\"\n",
    "x.view(-1, 1)\n",
    "x.view(-1)\n",
    "x.view(1, -1)"
   ]
  },
  {
   "cell_type": "code",
   "execution_count": 7,
   "id": "46c5f337-e7c0-438c-b63a-eb4f7a132da9",
   "metadata": {},
   "outputs": [
    {
     "data": {
      "text/plain": [
       "(tensor([ 0.4078, -0.2062, -1.9476, -0.5783,  0.7319, -0.9079,  0.1607,  1.5403,\n",
       "         -1.4357,  0.1099,  0.1589, -0.9753,  0.8379, -1.7359,  1.1830, -0.0266]),\n",
       " tensor([[ 0.4078],\n",
       "         [-0.2062],\n",
       "         [-1.9476],\n",
       "         [-0.5783],\n",
       "         [ 0.7319],\n",
       "         [-0.9079],\n",
       "         [ 0.1607],\n",
       "         [ 1.5403],\n",
       "         [-1.4357],\n",
       "         [ 0.1099],\n",
       "         [ 0.1589],\n",
       "         [-0.9753],\n",
       "         [ 0.8379],\n",
       "         [-1.7359],\n",
       "         [ 1.1830],\n",
       "         [-0.0266]]))"
      ]
     },
     "execution_count": 7,
     "metadata": {},
     "output_type": "execute_result"
    }
   ],
   "source": [
    "x.view(16), x.view(-1,1)"
   ]
  },
  {
   "cell_type": "code",
   "execution_count": null,
   "id": "15b9ee38-b4fa-47eb-a60b-a89ec9ddbc1a",
   "metadata": {},
   "outputs": [],
   "source": []
  }
 ],
 "metadata": {
  "kernelspec": {
   "display_name": "Python 3 (ipykernel)",
   "language": "python",
   "name": "python3"
  },
  "language_info": {
   "codemirror_mode": {
    "name": "ipython",
    "version": 3
   },
   "file_extension": ".py",
   "mimetype": "text/x-python",
   "name": "python",
   "nbconvert_exporter": "python",
   "pygments_lexer": "ipython3",
   "version": "3.9.4"
  }
 },
 "nbformat": 4,
 "nbformat_minor": 5
}
